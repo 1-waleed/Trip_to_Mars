{
 "cells": [
  {
   "cell_type": "markdown",
   "metadata": {},
   "source": [
    " # Beginning Tasks: Diagnostics"
   ]
  },
  {
   "cell_type": "markdown",
   "metadata": {},
   "source": [
    "Welcome to mission control! We're going to start off by performing a few diagnostic tasks to make sure all of our systems are functioning, and along the way we will be learning the basics of coding."
   ]
  },
  {
   "cell_type": "markdown",
   "metadata": {},
   "source": [
    "Much like spoken languages, different programming languages have different syntax and sematics. The interface we are working in right now, jupyter notebooks, is based on a programming language called Python. In a Jupyter notebook, code is written within cells, which can be executed separately. As per the setup instructions, you should have already activated line numbers, which show up on the left hand side of the cell below; these are handy and allow for easy reference to parts of your code. Run the cell below by clicking within the cell (you will see a box show up around the cell), and then pressing the run button located on the toolbar at the top. "
   ]
  },
  {
   "cell_type": "code",
   "execution_count": null,
   "metadata": {},
   "outputs": [],
   "source": [
    "import numpy as np\n",
    "import astropy as ap\n",
    "from matplotlib import pyplot as plt"
   ]
  },
  {
   "cell_type": "markdown",
   "metadata": {},
   "source": [
    "When you ran the cell above, it might have seemed as though nothing happened. That is because the code within that cell is working behind the scenes importing external content that will allow you to do cool stuff later on! You don't need to know the specifics of that right now, so let's move on to some coding basics.\n",
    "\n",
    "Read through the cell below and then run it. This time, you will see an output below the cell. "
   ]
  },
  {
   "cell_type": "code",
   "execution_count": null,
   "metadata": {},
   "outputs": [],
   "source": [
    "# You'll notice this text is a different color. This is a comment. Comments are started with the # sign.\n",
    "# Comments do not execute within your code, and have no output. \n",
    "# Comments are used to make notes throughout your code.\n",
    "# You can also comment out lines of code that you don't want to run by adding the # symbol at the start of the line.\n",
    "\n",
    "# The print() function (shown below on line 9) prints the input to the screen. \n",
    "# Below our input is the sentence \"Hello world!\"\n",
    "\n",
    "print(\"Hello world!\")\n",
    "\n",
    "# You'll notice that \"Hello world!\" is highlighted red above. \n",
    "# This is because the double quotes describe a string. \n",
    "\n",
    "# Strings are a data type that represent characters.\n",
    "# Examples of strings include \"Let's go to mars!\", \"abcde\", and \"12345\". Just remember the double quotes.\n",
    "\n",
    "# Uncomment the line below after you run this cell once, then run it again. Feel free to change the string content! \n",
    "#print(\"Coding is fun!\")"
   ]
  },
  {
   "cell_type": "markdown",
   "metadata": {},
   "source": [
    "Variables are a very important part of coding. A variable is a storage location that is represented by a symbolic name.\n",
    "The variable name needs to start with a letter, can only contain alpha-numeric characters, and is case sensitive.\n",
    "Variable names can be 1 letter long, or whole words! Underscores are also useful for ease of reading the variable name. Read through the cell below. "
   ]
  },
  {
   "cell_type": "code",
   "execution_count": null,
   "metadata": {},
   "outputs": [],
   "source": [
    "## *** INITIALIZATION *** ## \n",
    "############################\n",
    "\n",
    "# Variables often contain numeric values (integers - another data type!).\n",
    "# You assign values to variables using the equals sign. For example...\n",
    "\n",
    "x = 2\n",
    "y = 6\n",
    "\n",
    "# We can add our two variables together using the plus sign. \n",
    "our_sum = x + y\n",
    "\n",
    "# You can also divide with the / symbol, and multiply using the * symbol, as shown below:\n",
    "our_quotient = y/x\n",
    "our_product = x*y\n",
    "\n",
    "# Subtraction is done using the minus sign. \n",
    "# Can you write a line of code that calculates the difference between our two variables?\n",
    "our_difference = <<INSERT CODE HERE>>\n",
    "\n",
    "print(our_sum)\n",
    "\n",
    "# Once you have replaced the <<INSERT CODE HERE>> section with your line of code, run the cell.\n",
    "# If you run this cell as is, you will print the sum of the two variables we defined.\n",
    "# You can change the variable being printed by editing line 21 (change the variable input), and running the cell again. "
   ]
  },
  {
   "cell_type": "markdown",
   "metadata": {},
   "source": [
    "Alright, it seems our system is initialized. Next up is checking the temperature of the systems board."
   ]
  },
  {
   "cell_type": "code",
   "execution_count": null,
   "metadata": {},
   "outputs": [],
   "source": [
    "## *** TEMPERATURE OF SYSTEMS BOARD *** ## \n",
    "##########################################\n",
    "\n",
    "# Here we are defining two variables that represent our systems board temperature, and the target temperature.\n",
    "Temp_SystemsBoard = 40   # degrees Celsius\n",
    "Temp_Target = 30         # degrees Celsius\n",
    "\n",
    "# Let's compare the temperature of our systems board (Temp_SystemsBoard) to our target temperature (Temp_Target).\n",
    "# Lines 12-26 are an if/else conditional statement, which is a very important concept in coding.\n",
    "\n",
    "# The next line checks if the value of the variable Temp_SystemsBoard is greater than the value of Temp_Target\n",
    "if Temp_SystemsBoard > Temp_Target:\n",
    "    \n",
    "    # If the above statement is true, the following line of code will execute. If it's not true, nothing will happen,\n",
    "    # and we will move on to our next line of code, line 19.\n",
    "    print(\"The systems board is too hot.\")\n",
    "\n",
    "    # The next line checks if the value of Temp_SystemsBoard is less than Temp_Target.\n",
    "elif Temp_SystemsBoard < Temp_Target:\n",
    "    \n",
    "    # If this is true, the following line of code will execute. Otherwise, we will move on to our next line of code.\n",
    "    print(\"The systems board is too cold.\")\n",
    "\n",
    "    # Finally, if Temp_SystemsBoard is neither greater nor less than Temp_Target, the following code will execute.\n",
    "else:\n",
    "    print(\"Systems board is ready to go!\")\n",
    "    \n",
    "# Try changing the value of Temp_SystemsBoard (line 5) and see how that affects the output of this cell when you run it.\n",
    "# What happens when the two temperatures have equal values?"
   ]
  },
  {
   "cell_type": "markdown",
   "metadata": {},
   "source": [
    "Did you get a message that the systems board is ready to go? If yes, great! So far you have learned what a string is, how to define variables, and how to print strings and variables to your screen! You have even gone through an if/else statement. \n",
    "\n",
    "We'll continue checking our systems are working properly."
   ]
  },
  {
   "cell_type": "code",
   "execution_count": null,
   "metadata": {},
   "outputs": [],
   "source": [
    "## *** SPEED OF SPACECRAFT *** ## \n",
    "#################################\n",
    "\n",
    "# We want to calculate the required speed of our spacecraft for a given distance and time.\n",
    "# Assign values to the two variables below. \n",
    "\n",
    "# How far are we travelling? \n",
    "Distance_Travelled = <<INSERT CODE HERE>> # kilometres\n",
    "\n",
    "# How long do you want it to take?\n",
    "Time_Elapsed = <<INSERT CODE HERE>> # hours\n",
    "\n",
    "# Now we calculate our speed. \n",
    "Speed_Spacecraft = Distance_Travelled/Time_Elapsed # kilometres/hour\n",
    "\n",
    "# Let's convert our speed to metres/seconds.\n",
    "Speed_Spacecraft = int(Speed_Spacecraft*1000/(60*60))\n",
    "\n",
    "# We would like to print our variables to make sure the entire mission crew is aware of the distance, time and speed. \n",
    "# Recall the print function, and while we're at it, let's make it a full sentence! \n",
    "\n",
    "# First we need to convert our numeric values to strings. \n",
    "Distance_Travelled = str(Distance_Travelled)\n",
    "Time_Elapsed = str(Time_Elapsed)\n",
    "Speed_Spacecraft = str(Speed_Spacecraft)\n",
    "\n",
    "print(\"We are travelling \" + Distance_Travelled + \" km, and it should take \" + Time_Elapsed + \" hours\")\n",
    "\n",
    "# What we have done in line 27 is concatenate (link together multiple strings).\n",
    "# The plus sign is used for concatenation.\n",
    "# Some of these strings we wrote outright in line 27, while other strings we stored in our variables. \n",
    "\n",
    "# You can only concatenate the same data type,\n",
    "# which is why we converted our three numeric variables to strings in lines 23-25.\n",
    "\n",
    "# Can you write a line of code below that prints 'The speed of the spacecraft needs to be __ m/s.' to the screen?\n",
    "# HINT 1: Remember to use double quotes to define a string. \n",
    "# HINT 2: Our Speed_Spacecraft variable has already been converted to a string.\n",
    "\n",
    "<<INSERT CODE HERE>>"
   ]
  },
  {
   "cell_type": "markdown",
   "metadata": {},
   "source": [
    "## Advanced Section"
   ]
  },
  {
   "cell_type": "code",
   "execution_count": null,
   "metadata": {},
   "outputs": [],
   "source": [
    "## *** Pilot Check *** ##\n",
    "#########################\n",
    "\n",
    "# We will now be checking our list of pilots. \n",
    "# To do this, we will be introducing 'for' loops. These can be incredibly powerful but also dangerous! \n",
    "\n",
    "# The following code shows how we can use 'for' loops:\n",
    "for i in range(5):\n",
    "    num = str(i)\n",
    "    print(\"i = \" + num)\n",
    "\n",
    "# Run this cell and see what is output:"
   ]
  },
  {
   "cell_type": "code",
   "execution_count": null,
   "metadata": {},
   "outputs": [],
   "source": [
    "# As we can see, the 'print' was called 5 times, but each time the 'i' value changed. \n",
    "# This allows us to do repeated computations with changing values! \n",
    "\n",
    "# Next, let's look at arrays and lists. A list is exactly what it sounds like, a list of values! \n",
    "Pilots = [\"Akanksha Bij\", \"Sonja Pejcic\", \"Yilda Boukhtouchen\", \"Olivera Kralj\", \"Simran Nerval\", \"Jasmine Buddingh\"]\n",
    "\n",
    "# We see there are currently 6 pilots, so we define a variable for this number\n",
    "pilot_num = 6\n",
    "\n",
    "# We can look into this list entry by entry. Let's look at the first entry:\n",
    "print(Pilots[1])"
   ]
  },
  {
   "cell_type": "code",
   "execution_count": null,
   "metadata": {},
   "outputs": [],
   "source": [
    "# Wait, why do we see Sonja but not Akanksha? As you may have noticed when we introduced the 'for' loop,\n",
    "# referencing in Python starts at 0. So, the first entry is actually the zeroth entry! Weird, but let's test it:\n",
    "print(Pilots[0])\n",
    "\n",
    "# Run the cell! "
   ]
  },
  {
   "cell_type": "code",
   "execution_count": null,
   "metadata": {},
   "outputs": [],
   "source": [
    "# Okay, now that we know how that works, let's check in on the pilots:\n",
    "for i in range(pilot_num):\n",
    "    print(Pilots[i] + \" is ready to train for launch!\")\n",
    "    \n",
    "# Run the cell and see what they think!"
   ]
  },
  {
   "cell_type": "code",
   "execution_count": null,
   "metadata": {},
   "outputs": [],
   "source": [
    "# Try adding yourself to the Pilots list and modify the for loop accordingly:\n",
    "\n",
    "# Pilot info\n",
    "pilot_num = 6\n",
    "Pilots = [\"Akanksha Bij\", \"Sonja Pejcic\", \"Yilda Boukhtouchen\", \"Olivera Kralj\", \"Simran Nerval\", \"Jasmine Buddingh\"]\n",
    "\n",
    "for i in range(pilot_num):\n",
    "    print(Pilots[i] + \" is ready to train for launch!\")\n",
    "    \n",
    "# Hint: Remember that adding yourself to the list increases the number of pilots! "
   ]
  },
  {
   "cell_type": "markdown",
   "metadata": {},
   "source": [
    "# Preparation"
   ]
  },
  {
   "cell_type": "code",
   "execution_count": null,
   "metadata": {},
   "outputs": [],
   "source": []
  },
  {
   "cell_type": "markdown",
   "metadata": {},
   "source": [
    "# The Launch (Getting to Mars)"
   ]
  },
  {
   "cell_type": "code",
   "execution_count": null,
   "metadata": {},
   "outputs": [],
   "source": []
  }
 ],
 "metadata": {
  "kernelspec": {
   "display_name": "Python 3",
   "language": "python",
   "name": "python3"
  },
  "language_info": {
   "codemirror_mode": {
    "name": "ipython",
    "version": 3
   },
   "file_extension": ".py",
   "mimetype": "text/x-python",
   "name": "python",
   "nbconvert_exporter": "python",
   "pygments_lexer": "ipython3",
   "version": "3.8.3"
  }
 },
 {
      "cell_type": "markdown",
      "metadata": {
        "id": "KXrmurRPbAFF"
      },
      "source": [
        "# Final Mission: Going to Mars!"
      ]
    },
    {
      "cell_type": "markdown",
      "metadata": {
        "id": "4-k-RV-WbHNQ"
      },
      "source": [
        "In order to get to Mars, we need to figure out how to leave Earth's orbit and arrive at Mars' orbit. Let's first do some trajectory planning."
      ]
    },
    {
      "cell_type": "markdown",
      "metadata": {
        "id": "NmmobaOUsxIO"
      },
      "source": [
        "### Part 1: Our Path To Mars"
      ]
    },
    {
      "cell_type": "markdown",
      "metadata": {
        "id": "m1CzSzBbb6YW"
      },
      "source": [
        "**Run the code below to plot our ship's trajectory to Mars' orbit.**"
      ]
    },
    {
      "cell_type": "code",
      "metadata": {
        "id": "_GdVDT9lcfuZ",
        "outputId": "64f6ea6b-194c-4a70-c41d-8197b1cd0bf9",
        "colab": {
          "base_uri": "https://localhost:8080/",
          "height": 497
        }
      },
      "source": [
        "def get_ellipse(major, e=0):\n",
        "    theta = np.linspace(0, 2*np.pi, 100)      \n",
        "    focal = major*e                               \n",
        "    minor = math.sqrt((major**2) - (focal**2))            \n",
        "    x = major*np.cos(theta)\n",
        "    y = minor*np.sin(theta)\n",
        "    return x+focal, y\n",
        "\n",
        "def plot_orbit(major, e, color, ax):\n",
        "    x, y = get_ellipse(major, e)    \n",
        "    ax.grid(True, linewidth=0.2)\n",
        "    ax.scatter(0, 0, color='yellow', s=2**10)\n",
        "    ax.plot(x, y, color=color)\n",
        "    ax.set_xlabel('Distance from Sun (AU)')\n",
        "    ax.set_xlim(-1.2*np.max(x), 1.2*np.max(x))\n",
        "    ax.set_ylim(-1.2*np.max(x), 1.2*np.max(x))\n",
        "\n",
        "fig, ax = plt.subplots(figsize=[8,8])\n",
        "\n",
        "plot_orbit(major=1, e=0, color=\"blue\", ax=ax) #earth\n",
        "plot_orbit(major=1.524, e=0, color=\"red\", ax=ax) #mars\n",
        "\n",
        "def plot_trajectory():\n",
        "    R_Mars = 1.524\n",
        "    R_Earth = 1\n",
        "\n",
        "    a = (R_Mars + R_Earth)/2\n",
        "    focus = 0.26\n",
        "    eccentricity = focus/a\n",
        "    \n",
        "    return a, eccentricity\n",
        "\n",
        "a, eccentricity = plot_trajectory()\n",
        "\n",
        "plot_orbit(major=a, e=eccentricity, color=\"green\", ax=ax)"
      ],
    },
    {
      "cell_type": "markdown",
      "metadata": {
        "id": "5lAODLdEjXnN"
      },
      "source": [
        "**Advanced: consider the \"plot_trajectory\" function. This is a function that allows us to draw the ellipse of our trajectory by determining the focal length and semi-major axis length. Can you figure out how we can find the focal length and semi-major axis length of the new ellipse, knowing what we already know about Earth's and Mars' orbits?**"
      ]
    },
    {
      "cell_type": "markdown",
      "metadata": {
        "id": "93AHraJckpOO"
      },
      "source": [
        "From our trajectory plan above, we can see that our rocket will start in Earth's orbit, exit Earth's orbit, reach Mars' orbit and remain in that orbit. This path follows an elliptical shape - it is called a \"Hohmann Transfer Orbit\".\n",
        "\n",
        "The drawing below illustrates this trajectory:\n"
      ]
    },
    {
      "cell_type": "markdown",
      "metadata": {
        "id": "-1duLlOFcWWF"
      },
      "source": [
        "Now, let's figure out how to launch our satellite so that it follows this path!\n",
        "\n",
        "During our earlier training in Mission 2 (Rocket Launch Practice), we saw that leaving Earth's atmosphere requires a certain speed. In order to leave Earth's atmosphere *and* get to Mars, we need to go even faster!\n",
        "\n",
        "We need to determine the speed we need to leave Earth's atmosphere and start our elliptical trajectory. We also need to determine the speed that we need to slow down to, once we arrive at Mars' orbit - otherwise, we will be launched too far out into space!"
      ]
    },
    {
      "cell_type": "markdown",
      "metadata": {
        "id": "kNNFPFifp6dP"
      },
      "source": [
        "**Fill in the information below, then run the next two cells to calculate these changes in velocity.**"
      ]
    },
    {
      "cell_type": "code",
      "metadata": {
        "id": "_kY7ex4op5dP"
      },
      "source": [
        "# fill in the distance between the Earth and the Sun, in AU:\n",
        "earth_sun_distance = 1\n",
        "\n",
        "# fill in the distance between Mars and the Sun, in AU:\n",
        "mars_sun_distance = 1.524\n",
        "\n",
        "# what is the period of the Earth's orbit around the Sun, in days?\n",
        "P_earth = 365.24\n",
        "\n",
        "# what is the period of Mars's orbit around the Sun, in days?\n",
        "P_mars = 686.68\n",
        "\n",
        "# what is the mass of the Sun, in kilograms?\n",
        "M_sun = 1.989*10**(30)"
      ],
      "execution_count": null,
      "outputs": []
    },
    {
      "cell_type": "code",
      "metadata": {
        "id": "UVORAweeRe0a",
        "outputId": "d381b1f4-2ea4-48b4-9a28-554a5107ff38",
        "colab": {
          "base_uri": "https://localhost:8080/",
          "height": 51
        }
      },
      "source": [
        "def Hohmann_velocities(earth_sun_distance, mars_sun_distance, P_earth, P_mars, M_sun):\n",
        "  M = 1.989*10**(30)\n",
        "  G = 6.67*10**(-11)\n",
        "  P_1 = P_earth*86400\n",
        "  P_2 = P_mars*86400\n",
        "  r_1 = earth_sun_distance*1.496*10**(11)\n",
        "  r_2 = mars_sun_distance *1.496*10**(11)\n",
        "  \n",
        "  a = (r_1 + r_2)/2\n",
        "  \n",
        "  P_transfer = np.sqrt(4*(math.pi)**2*a**3/(G*M))\n",
        "  \n",
        "  v_earth = 2*math.pi*r_1/P_1\n",
        "  v_mars = 2*math.pi*r_2/P_1\n",
        "  \n",
        "  v_perihelion = 2*math.pi*a/P_transfer * np.sqrt((2*a/r_1)-1)\n",
        "  \n",
        "  v_aphelion = 2*math.pi*a/P_transfer * np.sqrt((2*a/r_2)-1)\n",
        "  \n",
        "  delta_v_perihelion = v_perihelion - v_earth\n",
        "  \n",
        "  delta_v_aphelion = v_mars - v_perihelion\n",
        "  \n",
        "  print(\"The amount we need to speed up by to leave Earth's orbit is\", round(delta_v_perihelion, 1), \"m/s.\")\n",
        "\n",
        "  print(\"The amount we need to slow down by to stay in Mars's orbit is\", round(delta_v_aphelion, 1), \"m/s.\")\n",
        "\n",
        "Hohmann_velocities(earth_sun_distance, mars_sun_distance, P_earth, P_mars, M_sun)"
      ],
      "execution_count": 75,
      "outputs": [
        {
          "output_type": "stream",
          "text": [
            "The amount we need to speed up by to leave Earth's orbit is 2938.3 m/s.\n",
            "The amount we need to slow down by to stay in Mars's orbit is 12669.8 m/s.\n"
          ],
          "name": "stdout"
        }
      ]
    },
    {
      "cell_type": "markdown",
      "metadata": {
        "id": "0zHsBInSsh8k"
      },
      "source": [
        "**ADVANCED: These equations will work for any planet further out than Earth! Change up the parameters to see where else you can travel. Do you think it will require a greater speed to reach Jupiter, or a smaller speed?**"
      ]
    },
    {
      "cell_type": "markdown",
      "metadata": {
        "id": "RUkEwdEqxhv4"
      },
      "source": [
        "**ADVANCED: You can write out your own code to calculate these velocities, or solve it by hand. Here are some hints if you would like to try it out:**\n",
        "\n",
        "1. First, you must figure out the speed of Earth in its orbit. This will be the initial speed of your spaceship, because it is in Earth's atmosphere. Remember circular motion, and the time it takes for Earth to go around the Sun!\n",
        "\n",
        "2. Then, you must figure out the speed the spaceship should have, if it were in this location but following the *green* transfer orbit. This location is called the \"perihelion.\" It is the point on the ellipse that is closest to the Sun. To do this, you must use Kepler's Laws.\n",
        "\n",
        "3. The difference between the two speeds will be the amount by which you need to speed up to enter the green orbit!\n",
        "\n",
        "4. At the other side of the green transfer orbit, you will need to slow down in order to stay in Mars' orbit. This point is called the \"aphelion\" - the point furthest from the Sun. Once again, use Kepler's Laws to determine the speed your spaceship will have at this point.\n",
        "\n",
        "5. Like before, determine the speed your spaceship would have if it were in Mars' orbit - using circular motion again! \n",
        "\n",
        "6. The difference between these two speeds is the amount by which you would need to slow down to get on Mars' orbit."
      ]
    },
    {
      "cell_type": "markdown",
      "metadata": {
        "id": "UGasKSMzs2rR"
      },
      "source": [
        "### Part 2: Arriving On Time!"
      ]
    },
    {
      "cell_type": "markdown",
      "metadata": {
        "id": "xVSiY2Jor0KU"
      },
      "source": [
        "Great! We have figured out how to get to Mars' orbit with our spaceship! However, we still need to make sure that we will intersect Mars once we arrive - otherwise we will have an unpleasant surprise upon arriving...\n",
        "\n",
        "To do this, we need to plan ahead and determine how long it will take us to complete our journey to Mars' orbit. We can use Kepler's Laws to do this. As we saw before, Kepler's Third Law is:\n",
        "\n",
        "P^2 = 4(pi)a^3/(GM). (will make this into LaTeX when i figure out how! - Yilda)\n",
        "\n",
        "P is the period of the transfer - the total amount of time it would take to go all the way around the green ellipse of our trajectory. However, we only need to consider a *portion* of this amount of time, because we are only following this path to get to Mars, and not to come back."
      ]
    },
    {
      "cell_type": "markdown",
      "metadata": {
        "id": "qheoUI8qtjFP"
      },
      "source": [
        "**Fill in the value of the constant below, and then run the cell to calculate the time it will take to reach Mars.**\n",
        "\n",
        "*Hint: remember that it will only take a portion of the total P. Look back at our trajectory diagram if it helps.*"
      ]
    },
    {
      "cell_type": "code",
      "metadata": {
        "id": "dthLyqGStil3",
        "outputId": "425179dc-be0d-4dec-d0c1-a1e3bc3340de",
        "colab": {
          "base_uri": "https://localhost:8080/",
          "height": 34
        }
      },
      "source": [
        "constant = 0.5\n",
        "seconds_per_day = 86400\n",
        "\n",
        "P = np.sqrt(4*(math.pi)**2*(a*1.496*10**(11))**3/(G*M))\n",
        "\n",
        "time = constant*P\n",
        "\n",
        "time_in_days = time/86400\n",
        "\n",
        "print(\"It would take\", round(time, 1), \"seconds to reach Mars using this trajectory. This is equivalent to\", round(time_in_days,0), \"days.\")"
      ],
      "execution_count": 89,
      "outputs": [
        {
          "output_type": "stream",
          "text": [
            "It would take 22374636.4 seconds to reach Mars using this trajectory. This is equivalent to 259.0 days.\n"
          ],
          "name": "stdout"
        }
      ]
    },
    {
      "cell_type": "markdown",
      "metadata": {
        "id": "R997pzNXw0i0"
      },
      "source": [
        "We now know how long it will take us to reach Mars on this journey. How can we use this to plan our departure date from Earth?\n",
        "\n",
        "**Think about this, then enter your plan in the text box below for your fellow astronauts.**"
      ]
    },
    {
      "cell_type": "markdown",
      "metadata": {
        "id": "LTG7bphWxagF"
      },
      "source": [
        "[..]"
      ]
    }
 "nbformat": 4,
 "nbformat_minor": 4
}
