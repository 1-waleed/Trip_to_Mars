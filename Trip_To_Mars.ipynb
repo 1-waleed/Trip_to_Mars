{
 "cells": [
  {
   "cell_type": "markdown",
   "metadata": {},
   "source": [
    " ## Beginning Tasks: Diagnostics"
   ]
  },
  {
   "cell_type": "markdown",
   "metadata": {},
   "source": [
    "Welcome to mission control! We're going to perform a few diagnostic tasks to make sure all of our systems are functioning, and along the way we will be learning some basics of coding!"
   ]
  },
  {
   "cell_type": "markdown",
   "metadata": {},
   "source": [
    "In a Jupyter notebook, code is written within cells, which can be executed separately. Note the line numbers on the left hand side of the cell below, these are handy and allow for easy reference to your code. Run the cell below by pressing the play button located on the left hand side of the cell."
   ]
  },
  {
   "cell_type": "code",
   "execution_count": null,
   "metadata": {},
   "outputs": [],
   "source": [
    "import numpy as np\n",
    "from matplotlib import pyplot as plt"
   ]
  },
  {
   "cell_type": "markdown",
   "metadata": {},
   "source": [
    "When you ran the cell above, it might have seemed as though nothing happened. That is because the code within that cell is working behind the scenes importing external content that will allow you to do cool stuff later on! You don't need to know the specifics of that right now, so let's move on to some coding basics.\n",
    "\n",
    "Read through the cell below and then run it. This time, you will see an output below the cell. "
   ]
  },
  {
   "cell_type": "code",
   "execution_count": null,
   "metadata": {},
   "outputs": [],
   "source": [
    "# You'll notice this text is a different color. This is a comment. Comments are started with the # sign.\n",
    "# Comments do not execute within your code, and have no output. \n",
    "# Comments are used to make notes throughout your code!\n",
    "# You can also comment out lines of code that you don't want to run.\n",
    "\n",
    "# The print() function (shown below) prints the input to the screen. \n",
    "# Below our input is the sentence \"Hello world!\"\n",
    "\n",
    "print(\"Hello world!\")\n",
    "\n",
    "# You'll notice that \"Hello world!\" is highlighted red. \n",
    "# This is because the double quotes describe a string. \n",
    "\n",
    "# Strings are a data type.\n",
    "# Examples of strings include \"Let's go to mars!\", \"abcde\", and \"12345\". Just remember the double quotes.\n",
    "\n",
    "# Uncomment the line below after you run this cell once, then run it again. Feel free to change the string content! \n",
    "#print(\"Coding is fun!\")"
   ]
  },
  {
   "cell_type": "markdown",
   "metadata": {},
   "source": [
    "Variables are a very important part of coding. A variable is a storage location that is represented by a symbolic name.\n",
    "The variable name needs to start with a letter, can only contain alpha-numeric characters, and is case sensitive.\n",
    "Variable names can be 1 letter long, or whole words! Underscores are also useful for ease of reading."
   ]
  },
  {
   "cell_type": "code",
   "execution_count": null,
   "metadata": {},
   "outputs": [],
   "source": [
    "## *** INITIALIZATION *** ## \n",
    "############################\n",
    "\n",
    "# Variables often contain numeric values (integers - another data type!).\n",
    "# You assign values to variables using the equals sign. For example...\n",
    "\n",
    "x = 2\n",
    "y = 6\n",
    "\n",
    "# We can add our two variables together using the plus sign. \n",
    "our_sum = x + y\n",
    "\n",
    "# You can also divide with the / symbol, or multiply using the * symbol, as shown below:\n",
    "our_quotient = y/x\n",
    "our_product = x*y\n",
    "\n",
    "# Subtraction is done using the minus sign. \n",
    "# Can you write a line of code that calculates the difference between our two variables?\n",
    "our_difference = <<FILL CODE IN HERE>>\n",
    "\n",
    "print(our_sum)\n",
    "\n",
    "# If you run this cell as is, you will print the sum of the two variables we defined.\n",
    "# You can change the variable being printed by editing line 21 (change the variable input), and running the cell again. "
   ]
  },
  {
   "cell_type": "markdown",
   "metadata": {},
   "source": [
    "Alright, it seems our system is initialized. Next up is checking the temperature of the systems board."
   ]
  },
  {
   "cell_type": "code",
   "execution_count": null,
   "metadata": {},
   "outputs": [],
   "source": [
    "## *** TEMPERATURE OF SYSTEMS BOARD *** ## \n",
    "##########################################\n",
    "\n",
    "# Here we are defining two variables that represent our systems board temperature, and the target temperature.\n",
    "Temp_SystemsBoard = 40   # degrees Celsius\n",
    "Temp_Target = 30         # degrees Celsius\n",
    "\n",
    "# Let's compare the temperature of our systems board (Temp_SystemsBoard) to our target temperature (Temp_Target).\n",
    "# Lines 12-25 are an if/else conditional statement, which is a very important concept in coding.\n",
    "\n",
    "# The next line checks if the value of the variable Temp_SystemsBoard is greater than the value of Temp_Target\n",
    "if Temp_SystemsBoard > Temp_Target:\n",
    "    \n",
    "    # If the above statement is true, the following line of code will execute. If it's not true, nothing will happen.\n",
    "    print(\"The systems board is too hot.\")\n",
    "\n",
    "    # The next line checks if the value of Temp_SystemsBoard is less than Temp_Target.\n",
    "elif Temp_SystemsBoard < Temp_Target:\n",
    "    \n",
    "    # If this is true, the following line of code will execute.\n",
    "    print(\"The systems board is too cold.\")\n",
    "\n",
    "    # Finally, if Temp_SystemsBoard is neither greater nor less than Temp_Target, the following code will execute.\n",
    "else:\n",
    "    print(\"Systems board is ready to go!\")\n",
    "    \n",
    "# Try changing the value of Temp_SystemsBoard (line 5) and see how that affects the output of this cell when you run it.\n",
    "# What happens when the two temperatures have equal values?"
   ]
  },
  {
   "cell_type": "markdown",
   "metadata": {},
   "source": [
    "Did you get a message that the systems board is ready to go? If yes, great! So far you have learned what a string is, how to define variables, and how to print strings and variables to your screen! You've even gone through an if/else statement. \n",
    "\n",
    "We'll continue checking our systems are working properly."
   ]
  },
  {
   "cell_type": "code",
   "execution_count": null,
   "metadata": {},
   "outputs": [],
   "source": [
    "## *** SPEED OF SPACECRAFT *** ## \n",
    "#################################\n",
    "\n",
    "# We want to calculate the required speed of our spacecraft for a given distance and time.\n",
    "# Assign values to the two variables below. \n",
    "\n",
    "# How far are we travelling? \n",
    "Distance_Travelled = 30000 #<<FILL CODE HERE>> # kilometres\n",
    "\n",
    "# How long do you want it to take?\n",
    "Time_Elapsed = 2 #<<FILL CODE HERE>> # hours\n",
    "\n",
    "# Now we calculate our speed. \n",
    "Speed_Spacecraft = Distance_Travelled/Time_Elapsed # kilometres/hour\n",
    "\n",
    "# Let's convert our speed to metres/seconds.\n",
    "Speed_Spacecraft = int(Speed_Spacecraft*1000/(60*60))\n",
    "\n",
    "# We would like to print our variables to make sure the entire mission crew is aware of the distance, time and speed. \n",
    "# Recall the print function, and while we're at it, let's make it a full sentence! \n",
    "\n",
    "# First we need to convert our numeric values to strings. \n",
    "Distance_Travelled = str(Distance_Travelled)\n",
    "Time_Elapsed = str(Time_Elapsed)\n",
    "Speed_Spacecraft = str(Speed_Spacecraft)\n",
    "\n",
    "print(\"We are travelling \" + Distance_Travelled + \" km, and it should take \" + Time_Elapsed + \" hours\")\n",
    "\n",
    "# What we have done in line 27 is concatenate (link together multiple strings)\n",
    "# The plus sign is used for concatenation.\n",
    "# Some of these strings we wrote outright, while others we stored in our variables. \n",
    "# You can only concatenate the same data type, which is why we converted our three variables to strings in lines 23-25.\n",
    "\n",
    "# Can you write a line of code below that prints 'The speed of the spacecraft needs to be __ m/s.' to the screen? \n",
    "#<< INSERT CODE HERE >>\n",
    "print(\"The speed of our spacecraft needs to be \" + Speed_Spacecraft + \" m/s\")\n"
   ]
  },
  {
   "cell_type": "markdown",
   "metadata": {},
   "source": [
    "For our final check, we need to confirm the engine power required for our mission."
   ]
  },
  {
   "cell_type": "code",
   "execution_count": null,
   "metadata": {},
   "outputs": [],
   "source": [
    "## *** ENGINE POWER REQUIRED *** ##\n",
    "###################################\n",
    "\n"
   ]
  },
  {
   "cell_type": "markdown",
   "metadata": {},
   "source": [
    "## Preparation"
   ]
  },
  {
   "cell_type": "code",
   "execution_count": null,
   "metadata": {},
   "outputs": [],
   "source": []
  },
  {
   "cell_type": "markdown",
   "metadata": {},
   "source": [
    "## The Launch (Getting to Mars)"
   ]
  },
  {
   "cell_type": "code",
   "execution_count": null,
   "metadata": {},
   "outputs": [],
   "source": []
  }
 ],
 "metadata": {
  "kernelspec": {
   "display_name": "Python 3",
   "language": "python",
   "name": "python3"
  },
  "language_info": {
   "codemirror_mode": {
    "name": "ipython",
    "version": 3
   },
   "file_extension": ".py",
   "mimetype": "text/x-python",
   "name": "python",
   "nbconvert_exporter": "python",
   "pygments_lexer": "ipython3",
   "version": "3.8.3"
  }
 },
 "nbformat": 4,
 "nbformat_minor": 4
}
