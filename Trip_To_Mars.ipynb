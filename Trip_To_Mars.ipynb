{
 "cells": [
  {
   "cell_type": "markdown",
   "metadata": {},
   "source": [
    "## Intro Stuff: "
   ]
  },
  {
   "cell_type": "code",
   "execution_count": 1,
   "metadata": {},
   "outputs": [
    {
     "name": "stdout",
     "output_type": "stream",
     "text": [
      "Hello world!\n"
     ]
    }
   ],
   "source": [
    "import numpy as np\n",
    "\n",
    "print(\"Hello world!\")"
   ]
  },
  {
   "cell_type": "markdown",
   "metadata": {},
   "source": [
    "## Beginning Tasks"
   ]
  },
  {
   "cell_type": "code",
   "execution_count": null,
   "metadata": {},
   "outputs": [],
   "source": []
  },
  {
   "cell_type": "markdown",
   "metadata": {},
   "source": [
    "## Preparation"
   ]
  },
  {
   "cell_type": "code",
   "execution_count": 31,
   "metadata": {},
   "outputs": [],
   "source": [
    "import astropy.units as u\n",
    "import astropy.constants as c\n",
    "import matplotlib.pyplot as plt\n",
    "import math"
   ]
  },
  {
   "cell_type": "code",
   "execution_count": 45,
   "metadata": {},
   "outputs": [],
   "source": [
    "def get_ellipse(major, e=0):\n",
    "    theta = np.linspace(0, 2*np.pi, 100)      \n",
    "    focal = major*e                               \n",
    "    minor = math.sqrt((major**2) - (focal**2))            \n",
    "    x = major*np.cos(theta)\n",
    "    y = minor*np.sin(theta)\n",
    "    return x+focal, y\n",
    "\n",
    "\n",
    "def plot_orbit(major, e, color, ax):\n",
    "    x, y = get_ellipse(major, e)    \n",
    "    ax.grid(True, linewidth=0.2)\n",
    "    ax.scatter(0, 0, color='yellow', s=2**10)\n",
    "    ax.plot(x, y, color=color)\n",
    "    ax.set_xlabel('Distance from Sun (AU)')\n",
    "    ax.set_xlim(-1.2*np.max(x), 1.2*np.max(x))\n",
    "    ax.set_ylim(-1.2*np.max(x), 1.2*np.max(x))"
   ]
  },
  {
   "cell_type": "markdown",
   "metadata": {},
   "source": [
    "# Mission 1 - How long does Mars and Jupiter take to orbit the Sun?\n",
    "\n",
    "If the semi-major axis for Mars is 1.524 AU and eccentricity is 0.0934, plot orbit of Mars and see how long it takes to orbit the Sun."
   ]
  },
  {
   "cell_type": "code",
   "execution_count": 52,
   "metadata": {},
   "outputs": [
    {
     "data": {
      "image/png": "[encoded data removed]",
      "text/plain": [
       "<Figure size 576x576 with 1 Axes>"
      ]
     },
     "metadata": {
      "needs_background": "light"
     },
     "output_type": "display_data"
    }
   ],
   "source": [
    "fig, ax = plt.subplots(figsize=[8,8])\n",
    "\n",
    "#Plot Earth:\n",
    "plot_orbit(major=1, e=0.0167086, color='blue', ax=ax) \n",
    "\n",
    "#Plot Mars:\n",
    "#### Uncomment this line and fill in 'major' and 'e' parameters:\n",
    "#plot_orbit(major=1.524, e=0.0934, color='red', ax=ax) \n",
    "\n",
    "#Plot Jupiter:\n",
    "#### Uncomment this line and fill in 'major' and 'e' parameters:\n",
    "#plot_orbit(major=1.524, e=0.0934, color='red', ax=ax) "
   ]
  },
  {
   "cell_type": "markdown",
   "metadata": {},
   "source": [
    "# What's going on?\n",
    "## Following Keppler's Laws of planetary motion:\n",
    "1) All planets orbit in ellipses with Sun at one focus (Here we have chosen the focus to be (0,0))\n",
    "\n",
    "2) The speed of the planet's orbit depends on how far it is from the sun - Notice that the planet speeds up when its closer to the sun in the orbit and slows down when its further"
   ]
  },
  {
   "cell_type": "code",
   "execution_count": null,
   "metadata": {},
   "outputs": [],
   "source": []
  },
  {
   "cell_type": "markdown",
   "metadata": {},
   "source": [
    "# Mission 2 - Rocket Launch Practice\n",
    "\n",
    "At what speed do you have to launch a rocket to leave the Earth's atmosphere? Try different speeds to see what happens!"
   ]
  },
  {
   "cell_type": "code",
   "execution_count": null,
   "metadata": {},
   "outputs": [],
   "source": []
  },
  {
   "cell_type": "markdown",
   "metadata": {},
   "source": [
    "## The Launch (Getting to Mars)"
   ]
  },
  {
   "cell_type": "code",
   "execution_count": null,
   "metadata": {},
   "outputs": [],
   "source": []
  }
 ],
 "metadata": {
  "kernelspec": {
   "display_name": "Python 3",
   "language": "python",
   "name": "python3"
  },
  "language_info": {
   "codemirror_mode": {
    "name": "ipython",
    "version": 3
   },
   "file_extension": ".py",
   "mimetype": "text/x-python",
   "name": "python",
   "nbconvert_exporter": "python",
   "pygments_lexer": "ipython3",
   "version": "3.7.1"
  }
 },
 "nbformat": 4,
 "nbformat_minor": 4
}
